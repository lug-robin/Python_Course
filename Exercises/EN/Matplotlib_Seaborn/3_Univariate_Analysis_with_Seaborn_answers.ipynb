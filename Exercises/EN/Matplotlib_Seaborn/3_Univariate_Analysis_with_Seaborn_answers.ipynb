{
 "cells": [
  {
   "cell_type": "markdown",
   "metadata": {},
   "source": [
    "# Univariate Analysis with Seaborn\n",
    "\n",
    "You are presumably wondering: \"Yeah, Matplotlib is great, it allows me to customize everything I want. But is there any other visualization library which is able to conjure up a good-looking graph with less code? \n",
    "\n",
    "In fact, there are many visualization libraries for Python. We will explore **Seaborn**, which is built on top of the Matplotlib.\n",
    "\n",
    "The strength of Seaborn is the ability to create attractive, aesthetically pleasing plots integrating **Pandas DataFrame**s functionalities. So far, in order to create plots we always needed to 'extract' a Series of the DataFrame and then we were able to apply some plotting function. Seaborn, on the other hand, operates on the whole dataset, intelligently using labels of the `DataFrame` and internally performing the necessary steps. Seaborn makes creating visualizations very easy and intuitive by using high-level functions. "
   ]
  },
  {
   "cell_type": "markdown",
   "metadata": {},
   "source": [
    "### [Figure-level vs. axes-level functions](https://seaborn.pydata.org/tutorial/function_overview.html)  \n",
    "\n",
    "There is a cross-cutting classification of seaborn functions as “axes-level” or “figure-level”. \n",
    "+ **Axes-level** functions plot data onto a single matplotlib.pyplot.Axes object, which is the return value of the function.\n",
    "+ **Figure-level** functions interface with matplotlib through a seaborn object, usually a FacetGrid, that manages the figure. Each module has a single figure-level function, which offers a unitary interface to its various axes-level functions."
   ]
  },
  {
   "cell_type": "markdown",
   "metadata": {},
   "source": [
    "# 1. Importing Seaborn library and loading the data\n",
    "\n",
    "Firstly, we import the Seaborn library and give it conventional alias `sns`. The abbreviation is derived from Samuel Norman \"Sam\" Seaborn, a fictional character portrayed by Rob Lowe in the television serial drama _The West Wing_. "
   ]
  },
  {
   "cell_type": "code",
   "execution_count": 1,
   "metadata": {},
   "outputs": [],
   "source": [
    "# Importing Seaborn library\n",
    "import pandas as pd\n",
    "import seaborn as sns\n",
    "import matplotlib.pyplot as plt"
   ]
  },
  {
   "cell_type": "markdown",
   "metadata": {},
   "source": [
    "There are 18 example datasets provided by Seaborn. After completing this notebook, you can choose a few of them that seem interesting to you and and try to apply your gained knowledge about visualization using Seaborn. \n",
    "\n",
    "To get a list of available datasets you can use `get_dataset_names()` function."
   ]
  },
  {
   "cell_type": "code",
   "execution_count": 2,
   "metadata": {},
   "outputs": [],
   "source": [
    "# Print available example datasets\n",
    "# This is blocked by security.\n",
    "# sns.get_dataset_names()"
   ]
  },
  {
   "cell_type": "markdown",
   "metadata": {},
   "source": [
    "## 1.1 Setting the theme\n",
    "\n",
    "Firstly, we discuss how you can control the **aesthetic of a figure** in other words, choose the **theme** based on your needs and preferences. It always depends on whether you are exploring the data for yourself or you want to communicate your insights to an audience. During your exploratory part, your visualizations do not need to be perfect and polished as long as they serve the purpose of revealing necessary and useful insight. \n",
    "\n",
    "But if your visualization will be presented to others, it is appropriate to take care of the plot's appearance in order to make it appealing and catching the attention. This is true also in the case of a theme. \n",
    "\n",
    "There are 5 predefined themes ('darkgrid' is by default):\n",
    "\n",
    "- darkgrid\n",
    "- whitegrid\n",
    "- dark\n",
    "- white\n",
    "- ticks\n",
    "\n",
    "To set a specific theme use `set_style('ticks')` with the chosen theme as the argument. Take a look at the documentation [here](https://seaborn.pydata.org/tutorial/aesthetics.html) for more information."
   ]
  },
  {
   "cell_type": "code",
   "execution_count": 3,
   "metadata": {},
   "outputs": [],
   "source": [
    "# Setting style\n",
    "sns.set_style('dark')"
   ]
  },
  {
   "cell_type": "markdown",
   "metadata": {},
   "source": [
    "# 2. Loading dataset\n",
    "\n",
    "We will go with the 'penguins' dataset that can be loaded using `load_dataset()` function which returns a Pandas DataFrame.\n",
    "\n",
    "This dataset consists of 7 attributes and 344 observations about penguins from islands in the Palmer Archipelago in Antarctica.\n",
    "\n",
    "**Attributes explanation**\n",
    "- species: species of a penguin (Adelie, Gentoo and Chinstrap)\n",
    "- island: the name of an island (Biscoe, Dream, Torgersen)\n",
    "- bill_length_mm: the length of the bill (in mm)\n",
    "- bill_depth_mm: the depth of the bill (in mm)\n",
    "- flipper_length_mm: the length of the flipper (in mm)\n",
    "- body_mass_g: body mass (in grams)\n",
    "- sex: the sex of a penguin"
   ]
  },
  {
   "cell_type": "code",
   "execution_count": 6,
   "metadata": {},
   "outputs": [],
   "source": [
    "# Load the data\n",
    "penguins = pd.read_csv('../../../Data/csv/penguins.csv')"
   ]
  },
  {
   "cell_type": "code",
   "execution_count": null,
   "metadata": {},
   "outputs": [],
   "source": [
    "# Take a look at the first 5 rows\n",
    "penguins.head()"
   ]
  },
  {
   "cell_type": "code",
   "execution_count": null,
   "metadata": {},
   "outputs": [],
   "source": [
    "# Explore statistics information about the data\n",
    "penguins.describe()"
   ]
  },
  {
   "cell_type": "code",
   "execution_count": null,
   "metadata": {},
   "outputs": [],
   "source": [
    "# Explore whether there are some missing values\n",
    "penguins.isnull().sum()"
   ]
  },
  {
   "cell_type": "code",
   "execution_count": null,
   "metadata": {},
   "outputs": [],
   "source": [
    "# Dropping missing values\n",
    "penguins.dropna(inplace = True)"
   ]
  },
  {
   "cell_type": "code",
   "execution_count": null,
   "metadata": {},
   "outputs": [],
   "source": [
    "# Checking for duplicated data\n",
    "penguins.duplicated().sum()"
   ]
  },
  {
   "cell_type": "markdown",
   "metadata": {},
   "source": [
    "# 3. Numerical variables"
   ]
  },
  {
   "cell_type": "markdown",
   "metadata": {},
   "source": [
    "## 3.1 Histogram\n",
    "\n",
    "We'll look at the distribution of our data using the `displot()` function where we specify parameters such as `data` and `x` that define a position on the x-axis. `displot()` is a Figure-level method and the size of the output can be changed using the parameters `height` and `aspect`. In case of Axes-level functions, the size can be controlled with `plt.figure(figsize = (Width, height in inches))`. You can find all necessary information in Seaborn's documentation.\n",
    "\n",
    "This function uses the same underlying code as `histplot()` function. Moreover it provides different approaches for visualizing the distribution. The histogram will be drawn by default. But we can choose a particular approach with the `kind` parameter:  \n",
    "`kind = 'hist'`   \n",
    "`kind = 'kde'`  \n",
    "`kind = 'ecdf'`  \n",
    "\n",
    "All of these approaches to visualize distributions have their very own function in the _distribution module_ and belong to the _distribution plots category_. We'll discuss all approaches later on. \n",
    "\n",
    "Now let's see how we can display the distribution of the length of penguins' bills. Seaborn's function `displot()` returns a Matplotlib's FacetGrid object. Assign the resulting object to the `ax` variable to be able add things such as title or axes labels.\n",
    "\n",
    "Another way is to use `plt.title()`, `plt.xlabel()` and `plt.ylabel()`."
   ]
  },
  {
   "cell_type": "code",
   "execution_count": null,
   "metadata": {},
   "outputs": [],
   "source": [
    "# Create a histogram of 'bill_length_mm'\n",
    "ax = sns.displot(data = penguins, \n",
    "                 x = 'bill_length_mm',\n",
    "                 height = 6.5,\n",
    "                 aspect = 1.3);\n",
    "\n",
    "# Setting a title\n",
    "ax.set(title = 'The distribution of bill length');"
   ]
  },
  {
   "cell_type": "markdown",
   "metadata": {},
   "source": [
    "As you can see, Seaborn automatically annotates labels according to defined parameters. We can see from the plot that the most common bill length is about 45 mm. There are very few penguins that have bill length less than 10 mm. \n",
    "\n",
    "As we have already learned, it is always appropriate to experiment and try different numbers of bins as well as change the size of bins. By default, `displot()` and `histplot()` plotting functions determine the size of the bins based on the number of observations and the variance. \n",
    "\n",
    "If you want to zoom in into the particular area of a histogram, you can do so by limiting the axis using Matplotlib's `xlim` (alteratively `ylim`). The options are:\n",
    "\n",
    "- `plt.xlim(left, right)` - setting values for the left and the right limit\n",
    "- `plt.xlim(left)` - setting a value only for left limit\n",
    "- `plt.xlim(right)` - setting a value only for right limit"
   ]
  },
  {
   "cell_type": "code",
   "execution_count": null,
   "metadata": {},
   "outputs": [],
   "source": [
    "# A displot of 'bill_length_mm' with specified axis limits from value 53 to 60\n",
    "sns.displot(data = penguins, \n",
    "            x = 'bill_length_mm')\n",
    "\n",
    "# Setting the right and left limit\n",
    "plt.xlim(53,60);"
   ]
  },
  {
   "cell_type": "markdown",
   "metadata": {},
   "source": [
    "Changing the size of the bins can be acomplished with the `binwidth` parameter. If we set `binwidth = 2`, each bin will coumpound observations in the range of 2 millimeters: "
   ]
  },
  {
   "cell_type": "code",
   "execution_count": null,
   "metadata": {},
   "outputs": [],
   "source": [
    "# Histogram with specified binwidth\n",
    "sns.displot(data = penguins, \n",
    "            x = 'bill_length_mm', \n",
    "            binwidth = 2,\n",
    "            height = 6.5,\n",
    "            aspect = 1.3);\n",
    "# Change the size of the bins yourself and observe the output"
   ]
  },
  {
   "cell_type": "markdown",
   "metadata": {},
   "source": [
    "Alternatively, we can control the number of bins. There is no right answer to the question of what number of bins you should set. \n",
    "\n",
    "It always depends on the data and our aim is to choose the most appropriate one that describes the data the best. If we didn't alter the number of bins during the exploration, we might miss important patterns. \n",
    "\n",
    "You can assign the number of bins to the `bins` parameter."
   ]
  },
  {
   "cell_type": "code",
   "execution_count": null,
   "metadata": {},
   "outputs": [],
   "source": [
    "# Histogram with specified number of bins\n",
    "sns.displot(data = penguins, \n",
    "            x = 'bill_length_mm', \n",
    "            bins = 30,\n",
    "            height = 6.5,\n",
    "            aspect = 1.3);\n",
    "# Again, replace the number of bins and observe the output"
   ]
  },
  {
   "cell_type": "markdown",
   "metadata": {},
   "source": [
    "In the above histogram, we can see that the number of bins is too big, since the gap appeared after value 55. Try change this number yourself and observe the output."
   ]
  },
  {
   "cell_type": "code",
   "execution_count": null,
   "metadata": {},
   "outputs": [],
   "source": [
    "# TASK 1 >>> Create a histogram showing the distribution of penguins's body mass ('body_mass_g' variable)\n",
    "#        >>> Just define data and a variable and let Seaborn create the default plot\n",
    "#        >>> Set parameters: height = 6.5, aspect = 1.3\n",
    "\n",
    "sns.displot(data = penguins, \n",
    "            x = 'body_mass_g',\n",
    "            height = 6.5,\n",
    "            aspect = 1.3);"
   ]
  },
  {
   "cell_type": "markdown",
   "metadata": {},
   "source": [
    ">What can you say about the distribution of body mass? Does the default bins correctly captured pattern in data? What is the most common weight of penguins? "
   ]
  },
  {
   "cell_type": "markdown",
   "metadata": {},
   "source": [
    "## 3.2 Plotting the distribution using KDE plot\n",
    "\n",
    "KDE abbreviation stands for Kernel Density Estimate and using this approach we can create distribution using continuous probability density curve. KDE is calculated using a specific formula which you do not need to worry about. There are however mathematical and statistical reasons why sometimes it might be more appropriate to show a KDE."
   ]
  },
  {
   "cell_type": "code",
   "execution_count": null,
   "metadata": {},
   "outputs": [],
   "source": [
    "# The distribution using kernel density estimation\n",
    "\n",
    "sns.displot(data = penguins, \n",
    "            x = 'bill_depth_mm', \n",
    "            bins = 20,\n",
    "            kde = True,\n",
    "            height = 6.5,\n",
    "            aspect = 1.3);"
   ]
  },
  {
   "cell_type": "markdown",
   "metadata": {},
   "source": [
    "## 3.4 Boxplot\n",
    "\n",
    "Now we'll look at the distribution of penguins' body mass using boxplot. \n",
    "\n",
    "Seaborn's `boxplot()` function takes several parameters. Refer to the documentation [here](https://seaborn.pydata.org/generated/seaborn.boxplot.html) to learn more. \n",
    "\n",
    "Below you can see what the default boxplot looks like. We passed our dataset to the `data` parameter and the 'body_mass_g' feature as the input of the x parameter. "
   ]
  },
  {
   "cell_type": "code",
   "execution_count": null,
   "metadata": {},
   "outputs": [],
   "source": [
    "# Boxplot of 'body_mass_g' variable\n",
    "\n",
    "plt.figure(figsize=(13,9))\n",
    "sns.boxplot(data = penguins, \n",
    "            x = 'body_mass_g');"
   ]
  },
  {
   "cell_type": "markdown",
   "metadata": {},
   "source": [
    "### 3.4.1 Customizing boxplots\n",
    "\n",
    "If you want to further customize a boxplot, you can do so with Matplotlib's help.\n",
    "\n",
    "Since Seaborn's boxplot is fancier version of Matplotlib's boxplot, you can again use the same parameters to control boxplot's appearance. For example, changing the style of box (`boxprops`), whiskers (`whiskerprops`), emphasizing median value (`medianprops`) or outliers (`flierprops`) if present. \n",
    "\n",
    "You can specify and pass these properties within a dictionary and then insert it into the boxplot plotting function. These `props` dictionaries refer to the class [`Line2D`](https://matplotlib.org/stable/api/_as_gen/matplotlib.lines.Line2D.html#matplotlib.lines.Line2D) and you can further customize those parameters  present in this class."
   ]
  },
  {
   "cell_type": "code",
   "execution_count": null,
   "metadata": {},
   "outputs": [],
   "source": [
    "# Small customizations of boxplot\n",
    "\n",
    "plt.figure(figsize=(13,9))\n",
    "sns.boxplot(data = penguins, \n",
    "            y = 'body_mass_g',\n",
    "            color = 'cadetblue',\n",
    "            width = 0.2,\n",
    "            linewidth = 3,\n",
    "            medianprops={'color':'white'});"
   ]
  },
  {
   "cell_type": "markdown",
   "metadata": {},
   "source": [
    "In our example we customize the color, the width of the boxplot and the width of the lines. Changing the color of the line presenting the median value can be useful in order to emphasize it. "
   ]
  },
  {
   "cell_type": "code",
   "execution_count": null,
   "metadata": {},
   "outputs": [],
   "source": [
    "# Some advanced customizations\n",
    "plt.figure(figsize=(13,9))\n",
    "\n",
    "box_cust = dict(color = '#834177',                # customizing properties of the box \n",
    "                alpha = 0.5, \n",
    "                linestyle = 'dashed', \n",
    "                linewidth = 6)\n",
    "\n",
    "whisker_cust = dict(color = '#000184',            # customizing properties of whiskers\n",
    "                    alpha = 0.9,                  # the transparency\n",
    "                    linestyle = 'dotted',         # the style of the line\n",
    "                    linewidth = 3,                # the width of the line\n",
    "                    dash_capstyle = 'projecting') # setting the cap style for dashed line\n",
    "\n",
    "median_cust = dict(color = '#ff7f0e',\n",
    "                  alpha = 0.9,\n",
    "                  linestyle = 'dashdot',\n",
    "                  linewidth = 5)\n",
    "\n",
    "ax = sns.boxplot(data = penguins, \n",
    "                y = 'flipper_length_mm',\n",
    "                width = 0.2,\n",
    "                linewidth = 3,\n",
    "                boxprops = box_cust,\n",
    "                whiskerprops = whisker_cust,\n",
    "                medianprops = median_cust,\n",
    "                notch = True);                    # noteched boxplot (notch represent the confidence interval around median) "
   ]
  },
  {
   "cell_type": "code",
   "execution_count": null,
   "metadata": {},
   "outputs": [],
   "source": [
    "# TASK 2 >>> Create a boxplot of the 'bill_length_mm' feature\n",
    "#        >>> Create a figure and set its size to (13,9)\n",
    "#        >>> Set color as hexadecimal code: '#98D8D8',\n",
    "#        >>> Set width of a box to 0.3\n",
    "#        >>> Set width of a line to 1\n",
    "#        >>> Change a color of median line to be yellow and line width: 3 \n",
    "#            (you can specify medianprops properties within boxplot() function or outside this function)\n",
    "\n",
    "plt.figure(figsize=(13,9))\n",
    "sns.boxplot(data = penguins, \n",
    "            y = 'bill_length_mm', \n",
    "            color = '#98D8D8', \n",
    "            width = 0.3, \n",
    "            linewidth = 1, \n",
    "            medianprops={'color':'yellow','linewidth':3});"
   ]
  },
  {
   "cell_type": "markdown",
   "metadata": {},
   "source": [
    "## 3.5 Swarmplot\n",
    "\n",
    "The `swarmplot()` plotting function is useful if we want to better see the distribution of the values. In this case, each data point will be drawn and adjusted to avoid overlapping of values. You can, of course, create a swarmplot on its own, but it's nice to see drawn values on the top of distribution created with boxplot. \n",
    "\n",
    "There is one disadvantage of the swarmplot: if you have dataset with large number of observations, let's say in thousands, there will be a huge overlap of data points. We can, however, take a random sample of only a few percent of points to be able to utilize the swarmplot. In such case, do not forget to mention next to your visual that the swarmplot displays only a subsample of data. In the case of the penguins dataset, swarmplot is a good choice of plotting method and we can nicely see the drawn observations. "
   ]
  },
  {
   "cell_type": "code",
   "execution_count": null,
   "metadata": {},
   "outputs": [],
   "source": [
    "# Distribution of data displayed with boxplot and swarmplot\n",
    "\n",
    "plt.figure(figsize=(13,9))\n",
    "sns.boxplot(data = penguins,\n",
    "            y = 'body_mass_g',\n",
    "            color = 'skyblue',\n",
    "            width = 0.2,\n",
    "            linewidth = 1)\n",
    "sns.swarmplot(data = penguins, \n",
    "              y = 'body_mass_g',\n",
    "              color = 'white',\n",
    "              edgecolor = 'violet',    # the color of line around data point\n",
    "              linewidth = 1);          # The width of line that frame data point"
   ]
  },
  {
   "cell_type": "code",
   "execution_count": null,
   "metadata": {},
   "outputs": [],
   "source": [
    "# TASK 3 >>> Create a swarmplot of the 'bill_depth_mm' feature\n",
    "#        >>> Create a figure and set its size to (13,9)\n",
    "#        >>> Set the color of the data points to 'coral'\n",
    "\n",
    "plt.figure(figsize=(13,9))\n",
    "sns.swarmplot(data = penguins, \n",
    "              y = 'bill_depth_mm', \n",
    "              color = 'coral');"
   ]
  },
  {
   "cell_type": "markdown",
   "metadata": {},
   "source": [
    "> Could you exactly say where the majority of data points lie based on the drawn data points? Sometimes, judging the distribution's shape from swarmplot can be tricky. To be sure, it's better to create a swarmplot in conjunction with a boxplot. "
   ]
  },
  {
   "cell_type": "code",
   "execution_count": null,
   "metadata": {},
   "outputs": [],
   "source": [
    "# TASK 4 >>> Create a boxplot of the 'bill_depth_mm' feature\n",
    "#        >>> Create a figure and set its size to (13,9)\n",
    "#        >>> Set the width of boxplot to 0.2, the width of the line to 3 and the color to 'white'\n",
    "#        >>> Plot a swarmplot right after the boxplot (just copy and paste the line of code you created in TASK 3\n",
    "\n",
    "plt.figure(figsize=(13,9))\n",
    "sns.boxplot(data = penguins, \n",
    "            y = 'bill_depth_mm', \n",
    "            width = 0.2, \n",
    "            color = 'white', \n",
    "            linewidth = 3)\n",
    "sns.swarmplot(data = penguins, \n",
    "              y = 'bill_depth_mm', \n",
    "              color = 'coral');"
   ]
  },
  {
   "cell_type": "markdown",
   "metadata": {},
   "source": [
    "## 3.6 Stripplot\n",
    "\n",
    "Stripplots are very similar to swarmplots since they also show all of the data. There is the same disadvantage of the data overlapping, but you can add some random noise (jitter) among values. Sometimes it's hard to tell what the distribution of the data is without additional representation of the underlying distribution (for instance, created with a boxplot). \n",
    "\n",
    "You can change the amount of jitter using the `jitter` parameter where you have 2 options:\n",
    "- set `jitter = True` for a good default amount of jitter\n",
    "- specify amount of jitter \n",
    "\n",
    "Stripplots can be useful for indicating outliers in the data, too. "
   ]
  },
  {
   "cell_type": "code",
   "execution_count": null,
   "metadata": {},
   "outputs": [],
   "source": [
    "# Stripplot of the 'body_mass_g' feature\n",
    "\n",
    "plt.figure(figsize=(13,9))\n",
    "sns.stripplot(data = penguins, \n",
    "              x = 'body_mass_g', \n",
    "              color = 'green', \n",
    "              jitter = 0.2, \n",
    "              size = 6);"
   ]
  },
  {
   "cell_type": "markdown",
   "metadata": {},
   "source": [
    "Since we do not have so many observations, we can better estimate the distribution of the data because the data poins do not overlap. Here, we can take into consideration the density of the data points which can gives us a good approximation of the shape. There are more data points in the range of 3200-3800 grams compared to the rest of data points. After that, the data points become more sparse. Based on that, we would say that the distribution seems to be right-skewed. In most cases, it would not be appropriate to assume the distribution only from the stripplot because it can be misleading. Therefore, always visualize the data using several plotting approaches. "
   ]
  },
  {
   "cell_type": "markdown",
   "metadata": {},
   "source": [
    "# 4. Categorical variables"
   ]
  },
  {
   "cell_type": "markdown",
   "metadata": {},
   "source": [
    "## 4.1 Catplot\n",
    "\n",
    "To create a visualization of a categorical variable you can use the `catplot()` plotting function. This is a Figure-level interface which allows you to specify a certain plot type such as boxplot using the `kind` parameter. \n",
    "\n",
    "For example, if you want to visualize the number of occurences of observations based on the specific category the code would be:"
   ]
  },
  {
   "cell_type": "code",
   "execution_count": null,
   "metadata": {},
   "outputs": [],
   "source": [
    "# The count of penguins based on the island\n",
    "\n",
    "sns.catplot(data = penguins,\n",
    "           x = 'island',\n",
    "           kind = 'count',\n",
    "           height = 6.5,\n",
    "           aspect = 1.3);"
   ]
  },
  {
   "cell_type": "markdown",
   "metadata": {},
   "source": [
    "This is the default output of a countplot. The visual appearance of a countplot is similar to a histogram, the values are placed within the respective bars."
   ]
  },
  {
   "cell_type": "markdown",
   "metadata": {},
   "source": [
    "## 4.2 Countplot\n",
    "\n",
    "Alternatively, we can use the Axis-level ploting function `sns.countplot()`."
   ]
  },
  {
   "cell_type": "code",
   "execution_count": null,
   "metadata": {},
   "outputs": [],
   "source": [
    "# Create a countplot of the 'island' feature\n",
    "\n",
    "plt.figure(figsize = (13,9))\n",
    "ax = sns.countplot(data = penguins, \n",
    "                   x = 'island',\n",
    "                   order = penguins.island.value_counts().index, # Order categories by their value counts\n",
    "                   palette = 'Paired')\n",
    "ax.set(title = 'Count of penguins based on the island', \n",
    "       xlabel = 'The island',\n",
    "       ylabel = 'Count');"
   ]
  },
  {
   "cell_type": "markdown",
   "metadata": {},
   "source": [
    "Here we order the categories based on their values in descending order. Another way to change the order based on your preference is to define categories in the list:\n",
    "```\n",
    "order = ['Biscoe','Dream','Torgersen']\n",
    "```\n",
    "\n",
    "All of customizations we did are applicable also with `catplot()`."
   ]
  },
  {
   "cell_type": "code",
   "execution_count": null,
   "metadata": {},
   "outputs": [],
   "source": [
    "# TASK 5 >>> Display the count of penguins with respect to the species\n",
    "#        >>> Use the catplot() plotting function\n",
    "#        >>> Order the species in the following way: Chinstrap, Adelie, Gentoo\n",
    "#        >>> Set the saturation of colors to 0.3\n",
    "#        >>> Change the size of the figure:\n",
    "#            parameter: height = 6.5\n",
    "#            parameter: aspect = 1.3\n",
    "#        >>> Set the title to 'Count of penguins based on species'\n",
    "\n",
    "sns.catplot(data = penguins,\n",
    "           x = 'species',\n",
    "           kind = 'count',\n",
    "           order = ['Chinstrap','Adelie','Gentoo'],\n",
    "           palette = 'Set2',\n",
    "           saturation = 0.3,\n",
    "           height = 6.5,\n",
    "           aspect = 1.3)\n",
    "plt.title('Count of penguins based on species');"
   ]
  },
  {
   "cell_type": "markdown",
   "metadata": {},
   "source": [
    "# 5. Tasks\n",
    "\n",
    "Now it's your turn to create some visualization of the Bank Marketing dataset. The data is related to a marketing campaign of a Portuguese banking institution that was performed via phone communication with clients of the bank. Let's look at attributes and do some preprocessing. \n",
    "\n",
    "**Attributes explanation:**\n",
    "\n",
    "Bank client data:\n",
    "- age\n",
    "- job : type of job\n",
    "- marital : marital status\n",
    "- education\n",
    "- default: has credit in default?\n",
    "- housing: has housing loan?\n",
    "- loan: has personal loan?\n",
    "\n",
    "Related with the last contact of the current campaign:\n",
    "- contact: contact communication type\n",
    "- month: last contact month of year\n",
    "- day_of_week: last contact day of the week\n",
    "- duration: last contact duration, in seconds (numeric). Important note: this attribute highly affects the output target (e.g., if duration=0 then y='no'). Yet, the duration is not known before a call is performed. Also, after the end of the call y is obviously known. Thus, this input should only be included for benchmark purposes and should be discarded if the intention is to have a realistic predictive model.\n",
    "\n",
    "Other attributes:\n",
    "- campaign: number of contacts performed during this campaign and for this client\n",
    "- pdays: number of days that passed by after the client was last contacted from a previous campaign (999 means client was not previously contacted)\n",
    "- previous: number of contacts performed before this campaign and for this client\n",
    "- poutcome: outcome of the previous marketing campaign\n",
    "\n",
    "Social and economic context attributes\n",
    "- emp.var.rate: employment variation rate - quarterly indicator\n",
    "- cons.price.idx: consumer price index - monthly indicator\n",
    "- cons.conf.idx: consumer confidence index - monthly indicator\n",
    "- euribor3m: euribor 3 month rate - daily indicator\n",
    "it is calculated by eliminating the highest 15% and the lowest 15% of the interest rates submitted and calculating the arithmetic mean of the remaining values\n",
    "- nr.employed: number of employees - quarterly indicator\n",
    "\n",
    "Target variable:\n",
    "- y - has the client subscribed to a term deposit?"
   ]
  },
  {
   "cell_type": "markdown",
   "metadata": {},
   "source": [
    "## 5.1 Loading data, preprocessing"
   ]
  },
  {
   "cell_type": "code",
   "execution_count": null,
   "metadata": {},
   "outputs": [],
   "source": [
    "# Load the data \n",
    "data = pd.read_csv('../../../Data/csv/bank_data.csv',sep = ';')\n",
    "data.head()"
   ]
  },
  {
   "cell_type": "code",
   "execution_count": null,
   "metadata": {},
   "outputs": [],
   "source": [
    "# Let's rename some of variables\n",
    "data.rename(columns = {'marital':'marital_status','default':'default_credit','housing':'house_loan',\n",
    "                      'contact':'contact_type','duration':'contact_duration','campaign':'number_of_contacts',\n",
    "                      'pdays':'days_passed','previous':'number_previous_contact','poutcome':'previous_campaign_outcome',\n",
    "                      'emp.var.rate':'emp_variation_rate','cons.price.idx':'cpi','cons.conf.idx':\n",
    "                      'cci','euribor3m':'euribor_rate','nr.employed':'no_employees','y':'target'},\n",
    "           inplace = True)"
   ]
  },
  {
   "cell_type": "code",
   "execution_count": null,
   "metadata": {},
   "outputs": [],
   "source": [
    "# Examine summary statistics\n",
    "data.describe()"
   ]
  },
  {
   "cell_type": "code",
   "execution_count": null,
   "metadata": {},
   "outputs": [],
   "source": [
    "# Check for missing values\n",
    "data.isnull().sum()"
   ]
  },
  {
   "cell_type": "code",
   "execution_count": null,
   "metadata": {},
   "outputs": [],
   "source": [
    "# Check for duplicated data\n",
    "duplicated_rows = data[data.duplicated()]\n",
    "duplicated_rows"
   ]
  },
  {
   "cell_type": "markdown",
   "metadata": {},
   "source": [
    "There are 12 duplicated rows in the dataset that need to be removed. "
   ]
  },
  {
   "cell_type": "code",
   "execution_count": null,
   "metadata": {},
   "outputs": [],
   "source": [
    "# Remove duplicated rows\n",
    "\n",
    "data.drop_duplicates(inplace = True)"
   ]
  },
  {
   "cell_type": "code",
   "execution_count": null,
   "metadata": {},
   "outputs": [],
   "source": [
    "# Examine data types of variables\n",
    "\n",
    "data.dtypes"
   ]
  },
  {
   "cell_type": "markdown",
   "metadata": {},
   "source": [
    "It seems that the data type of the numerical features has been correctly recognized by Python. All non-numerical features have the _object_ data type, so let's  convert them to categories."
   ]
  },
  {
   "cell_type": "code",
   "execution_count": null,
   "metadata": {},
   "outputs": [],
   "source": [
    "# Select all variables that need to be converted\n",
    "\n",
    "to_category = ['job','marital_status','education','default_credit','house_loan', \n",
    "               'loan','contact_type','month','day_of_week', 'previous_campaign_outcome']"
   ]
  },
  {
   "cell_type": "code",
   "execution_count": null,
   "metadata": {},
   "outputs": [],
   "source": [
    "# Convert them to the category data type\n",
    "\n",
    "for col in to_category:\n",
    "    data[col] = data[col].astype('category')"
   ]
  },
  {
   "cell_type": "markdown",
   "metadata": {},
   "source": [
    "Days and months are recorded as their abbreviations. Let's map them to their full name."
   ]
  },
  {
   "cell_type": "code",
   "execution_count": null,
   "metadata": {},
   "outputs": [],
   "source": [
    "# Create a dictionary with original values and corresponding new values for days\n",
    "\n",
    "mapping_days = {'mon':'Monday','tue':'Tuesday','wed':'Wednesday','thu':'Thursday','fri':'Friday'}"
   ]
  },
  {
   "cell_type": "code",
   "execution_count": null,
   "metadata": {},
   "outputs": [],
   "source": [
    "# Map the new values to the column 'day_of_week'\n",
    "\n",
    "data.day_of_week = data.day_of_week.map(mapping_days)"
   ]
  },
  {
   "cell_type": "code",
   "execution_count": null,
   "metadata": {},
   "outputs": [],
   "source": [
    "# Create a dictionary with the original values and the corresponding new values for the months\n",
    "\n",
    "mapping_months = {'mar':'March', 'apr':'April','may':'May','jun':'Jun','jul':'Jul','aug':'August',\n",
    "                  'sep':'September','oct':'October','nov':'November','dec':'December'}"
   ]
  },
  {
   "cell_type": "code",
   "execution_count": null,
   "metadata": {},
   "outputs": [],
   "source": [
    "# Map the new values to the column 'month'\n",
    "data.month = data.month.map(mapping_months)"
   ]
  },
  {
   "cell_type": "markdown",
   "metadata": {},
   "source": [
    "## 5.2 Numerical variables\n",
    "\n",
    "Let's start with the numerical features and explore the distribution of the data points. "
   ]
  },
  {
   "cell_type": "code",
   "execution_count": null,
   "metadata": {},
   "outputs": [],
   "source": [
    "# TASK 6 >>> Create a histogram of 'age' variable\n",
    "#        >>> Set parameters: height = 6.5, aspect = 1.3\n",
    "#        >>> Set the number of bins to 25\n",
    "#        >>> Set the title: 'Age distribution'\n",
    "\n",
    "sns.displot(data = data,\n",
    "            x = 'age', \n",
    "            bins = 25,\n",
    "            height = 6.5,\n",
    "            aspect = 1.3)\n",
    "plt.title('Age distribution');"
   ]
  },
  {
   "cell_type": "code",
   "execution_count": null,
   "metadata": {},
   "outputs": [],
   "source": [
    "# TASK 7 >>> Create a boxplot of the 'age' feature\n",
    "#        >>> Set a the figure size to (13,9)\n",
    "#        >>> Assign variable 'age' to the y parameter\n",
    "#        >>> Set the width of the boxplot to 0.3\n",
    "\n",
    "plt.figure(figsize = (13,9))\n",
    "sns.boxplot(data = data, \n",
    "            y = 'age', \n",
    "            width = 0.3);"
   ]
  },
  {
   "cell_type": "markdown",
   "metadata": {},
   "source": [
    "The values of the feature 'contact_duration' are recorded in seconds. Run the line below to convert them to minutes."
   ]
  },
  {
   "cell_type": "code",
   "execution_count": null,
   "metadata": {},
   "outputs": [],
   "source": [
    "# Converting seconds to minutes\n",
    "data.contact_duration = data.contact_duration.apply(lambda x: x / 60)"
   ]
  },
  {
   "cell_type": "code",
   "execution_count": null,
   "metadata": {},
   "outputs": [],
   "source": [
    "# TASK 8 >>> Create a histogram of 'contact_duration'\n",
    "#        >>> Set the width of the bins to 0.5, so every bin contains a call duration of 50 seconds\n",
    "\n",
    "sns.displot(data = data, \n",
    "            x = 'contact_duration', \n",
    "            binwidth = 0.5);"
   ]
  },
  {
   "cell_type": "markdown",
   "metadata": {},
   "source": [
    "There are some records where no call was performed, so the corresponding values are of value 0. \n",
    "Let's take a look at the rows with no recorded duration. We will drop them since they do not provide us with any useful information. "
   ]
  },
  {
   "cell_type": "code",
   "execution_count": null,
   "metadata": {},
   "outputs": [],
   "source": [
    "# Print only those rows where 'contact_duration' is 0\n",
    "data[data['contact_duration'] == 0]"
   ]
  },
  {
   "cell_type": "code",
   "execution_count": null,
   "metadata": {},
   "outputs": [],
   "source": [
    "# Get the index of rows that should be dropped\n",
    "index_rows_to_drop = data[data['contact_duration'] == 0].index"
   ]
  },
  {
   "cell_type": "code",
   "execution_count": null,
   "metadata": {},
   "outputs": [],
   "source": [
    "# Drop these rows from the dataframe\n",
    "data.drop(index_rows_to_drop, inplace = True)"
   ]
  },
  {
   "cell_type": "code",
   "execution_count": null,
   "metadata": {},
   "outputs": [],
   "source": [
    "# TASK 9 >>> Recreate a histogram of 'contact_duration'\n",
    "#        >>> Set parameters: height = 6.5, aspect = 1.3\n",
    "#        >>> Zoom in and set the x-axis limit from 0.5 to 25 minutes\n",
    "#        >>> Set the title: 'Call duration up to 25 min'\n",
    "\n",
    "sns.displot(data = data, \n",
    "            x = 'contact_duration',\n",
    "            height = 6.5, \n",
    "            aspect = 1.3)\n",
    "plt.xlim(0.5,25)\n",
    "plt.title('Call duration up to 25 min');"
   ]
  },
  {
   "cell_type": "markdown",
   "metadata": {},
   "source": [
    "We already saw that the distribution of data points can be visualized using a stripplot. When we plotted some feature of the penguins dataset, we could nicely observe each data point in the figure and there was minimal overlap of values. Now we create a stripplot of the 'contact_duration' feature from the Bank marketing dataset to see how a stripplot looks like when you have thousands of records available. "
   ]
  },
  {
   "cell_type": "code",
   "execution_count": null,
   "metadata": {},
   "outputs": [],
   "source": [
    "# TASK 10 >>> Create a stripplot of the 'contact_duration' feature\n",
    "#         >>> Set a Figure size: (13,9)\n",
    "\n",
    "plt.figure(figsize = (13,9))\n",
    "sns.stripplot(data = data, \n",
    "              x = 'contact_duration');"
   ]
  },
  {
   "cell_type": "markdown",
   "metadata": {},
   "source": [
    "## 5.3 Categorical variables"
   ]
  },
  {
   "cell_type": "code",
   "execution_count": null,
   "metadata": {},
   "outputs": [],
   "source": [
    "# TASK 11 >>> Create a countplot of the 'job' feature to see the client's job and corresponding counts\n",
    "#         >>> Set a the figure size to (13,9)\n",
    "#         >>> Order the counts by the most common job\n",
    "#         >>> Set the rotation of x-axis tick labels to 45 degrees using Matplotlib's xticks()\n",
    "#         >>> Set the color palette to 'Set3'\n",
    "\n",
    "plt.figure(figsize = (13,9))\n",
    "sns.countplot(data = data, \n",
    "              x = 'job', \n",
    "              order = data.job.value_counts(ascending = False).index, \n",
    "              palette = 'Set3')\n",
    "plt.xticks(rotation = 45);"
   ]
  },
  {
   "cell_type": "markdown",
   "metadata": {},
   "source": [
    "Now we'll look at how many calls have been performed during the respective months. We are missing January in the dataset for some reason, but don't worry about it. To correctly visualize the months of the year we need to specify their order."
   ]
  },
  {
   "cell_type": "code",
   "execution_count": null,
   "metadata": {},
   "outputs": [],
   "source": [
    "# Unique categories\n",
    "month_order = ['February','March','April','May','Jun','Jul','August','September','October','November','December']"
   ]
  },
  {
   "cell_type": "code",
   "execution_count": null,
   "metadata": {},
   "outputs": [],
   "source": [
    "# Creating CategoricalDtype\n",
    "order_cat = pd.api.types.CategoricalDtype(categories = month_order, ordered = True)"
   ]
  },
  {
   "cell_type": "code",
   "execution_count": null,
   "metadata": {},
   "outputs": [],
   "source": [
    "# Change data type of month variable as order_cat data type\n",
    "data.month = data.month.astype(order_cat)"
   ]
  },
  {
   "cell_type": "code",
   "execution_count": null,
   "metadata": {},
   "outputs": [],
   "source": [
    "# TASK 12 >>> Create a countplot of 'month' variable to see how many calls have been performed through the months\n",
    "#         >>> Set the figure size to (13,9)\n",
    "#         >>> Set the color palette to 'Pastel1'\n",
    "#         >>> Set the rotation of x-axis tick labels to 45 degrees using Matplotlib's xticks()\n",
    "\n",
    "plt.figure(figsize = (13,9))\n",
    "sns.countplot(data = data, \n",
    "              x = 'month', \n",
    "              # order = data.month.value_counts(ascending = False).index, \n",
    "              palette = 'Pastel1')\n",
    "plt.xticks(rotation = 45);"
   ]
  },
  {
   "cell_type": "markdown",
   "metadata": {},
   "source": [
    "## Citation request:\n",
    "\n",
    "[Moro et al., 2014] S. Moro, P. Cortez and P. Rita. A Data-Driven Approach to Predict the Success of Bank Telemarketing. Decision Support Systems, Elsevier, 62:22-31, June 2014"
   ]
  }
 ],
 "metadata": {
  "kernelspec": {
   "display_name": "Python 3 (ipykernel)",
   "language": "python",
   "name": "python3"
  },
  "language_info": {
   "codemirror_mode": {
    "name": "ipython",
    "version": 3
   },
   "file_extension": ".py",
   "mimetype": "text/x-python",
   "name": "python",
   "nbconvert_exporter": "python",
   "pygments_lexer": "ipython3",
   "version": "3.10.6"
  }
 },
 "nbformat": 4,
 "nbformat_minor": 4
}
